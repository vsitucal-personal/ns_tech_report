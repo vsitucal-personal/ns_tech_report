{
 "cells": [
  {
   "cell_type": "markdown",
   "id": "7f6d1104-bf18-49d4-a535-cfb59265820e",
   "metadata": {
    "execution": {
     "iopub.execute_input": "2024-11-17T06:05:39.384945Z",
     "iopub.status.busy": "2024-11-17T06:05:39.384331Z",
     "iopub.status.idle": "2024-11-17T06:05:39.532149Z",
     "shell.execute_reply": "2024-11-17T06:05:39.530334Z",
     "shell.execute_reply.started": "2024-11-17T06:05:39.384888Z"
    }
   },
   "source": [
    "![title](images/ns_title.png)"
   ]
  },
  {
   "cell_type": "markdown",
   "id": "ee3d2f66-ebf6-4122-b141-45b702fbcc6a",
   "metadata": {},
   "source": [
    "# Introduction"
   ]
  },
  {
   "cell_type": "markdown",
   "id": "0e09c366-a5ac-4b97-9fa6-60f677c3c729",
   "metadata": {},
   "source": [
    "The Philippine Stock Exchange Index (PSEi) represents the top 30 publicly listed companies on the Philippine Stock Exchange, showcasing the most significant players by market capitalization. To promote transparency, listed companies are mandated to disclose their top 100 shareholders quarterly. This regulation sheds light on key stakeholders, including individual investors, institutional entities, and offshore institutions, whose significant voting power influences corporate policies.\n",
    "\n",
    "This report leverages network science to analyze shareholder connections and identify the top movers shaping the local stock exchange. By mapping these relationships, we aim to provide deeper insights into the forces driving the PSEi and the broader investment landscape."
   ]
  },
  {
   "cell_type": "markdown",
   "id": "ac50a578-0267-4d10-b457-7857694afeaa",
   "metadata": {
    "execution": {
     "iopub.execute_input": "2024-11-17T05:56:27.937228Z",
     "iopub.status.busy": "2024-11-17T05:56:27.936044Z",
     "iopub.status.idle": "2024-11-17T05:56:27.943080Z",
     "shell.execute_reply": "2024-11-17T05:56:27.941603Z",
     "shell.execute_reply.started": "2024-11-17T05:56:27.937162Z"
    }
   },
   "source": [
    "# Problem Statement and Significance\n",
    "\n",
    "How do the top shareholders of PSEi-listed companies connect, and how do these relationships shape market dynamics? By analyzing these connections, we can uncover power dynamics and influence patterns that drive decision-making and impact the Philippine stock market. Understanding these networks is critical to gaining insights into market behavior and shareholder influence."
   ]
  },
  {
   "cell_type": "markdown",
   "id": "72c33ec8-3d9d-4fb9-8152-60abba26f5d8",
   "metadata": {},
   "source": [
    "# Methodology"
   ]
  },
  {
   "cell_type": "code",
   "execution_count": null,
   "id": "b557d6af-ed3e-4a0c-ba65-71566c8db80d",
   "metadata": {},
   "outputs": [],
   "source": []
  }
 ],
 "metadata": {
  "kernelspec": {
   "display_name": "Python 3 (ipykernel)",
   "language": "python",
   "name": "python3"
  },
  "language_info": {
   "codemirror_mode": {
    "name": "ipython",
    "version": 3
   },
   "file_extension": ".py",
   "mimetype": "text/x-python",
   "name": "python",
   "nbconvert_exporter": "python",
   "pygments_lexer": "ipython3",
   "version": "3.11.8"
  }
 },
 "nbformat": 4,
 "nbformat_minor": 5
}
