{
 "cells": [
  {
   "attachments": {},
   "cell_type": "markdown",
   "id": "8c05a7db-e5a3-46a8-8107-b00db0b27f75",
   "metadata": {},
   "source": [
    "![title](images/ns_title.png)"
   ]
  },
  {
   "cell_type": "code",
   "execution_count": null,
   "id": "805128b3-8c65-4787-9481-a2940aa2b6d9",
   "metadata": {},
   "outputs": [],
   "source": []
  }
 ],
 "metadata": {
  "kernelspec": {
   "display_name": "Python 3 (ipykernel)",
   "language": "python",
   "name": "python3"
  },
  "language_info": {
   "codemirror_mode": {
    "name": "ipython",
    "version": 3
   },
   "file_extension": ".py",
   "mimetype": "text/x-python",
   "name": "python",
   "nbconvert_exporter": "python",
   "pygments_lexer": "ipython3",
   "version": "3.11.8"
  }
 },
 "nbformat": 4,
 "nbformat_minor": 5
}
